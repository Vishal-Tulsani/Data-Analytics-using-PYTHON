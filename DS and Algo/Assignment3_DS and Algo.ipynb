{
 "cells": [
  {
   "cell_type": "code",
   "execution_count": 3,
   "metadata": {},
   "outputs": [
    {
     "name": "stdout",
     "output_type": "stream",
     "text": [
      "Mon\n",
      "Tue\n",
      "Wed\n",
      "THU\n"
     ]
    }
   ],
   "source": [
    "class Node:\n",
    "    def __init__(self, dataval=None):\n",
    "        self.dataval = dataval\n",
    "        self.nextval = None\n",
    "\n",
    "class SLinkedList:\n",
    "    def __init__(self):\n",
    "        self.headval = None\n",
    "\n",
    "\n",
    "    def AtEnd(self, newdata):\n",
    "        NewNode = Node(newdata)\n",
    "        if self.headval is None:\n",
    "            self.headval = NewNode\n",
    "            return\n",
    "        laste = self.headval\n",
    "        while(laste.nextval):\n",
    "            laste = laste.nextval\n",
    "        laste.nextval=NewNode\n",
    "\n",
    "\n",
    "    def listprint(self):\n",
    "        printval = self.headval\n",
    "        while printval is not None:\n",
    "            print (printval.dataval)\n",
    "            printval = printval.nextval\n",
    "\n",
    "\n",
    "list = SLinkedList()\n",
    "list.headval = Node(\"Mon\")\n",
    "e2 = Node(\"Tue\")\n",
    "e3 = Node(\"Wed\")\n",
    "\n",
    "list.headval.nextval = e2\n",
    "e2.nextval = e3\n",
    "\n",
    "list.AtEnd(\"THU\")\n",
    "\n",
    "list.listprint()\n"
   ]
  },
  {
   "cell_type": "code",
   "execution_count": 6,
   "metadata": {},
   "outputs": [
    {
     "name": "stdout",
     "output_type": "stream",
     "text": [
      "Menu\n",
      "push <value>\n",
      "pop\n",
      "quit\n",
      "What would you like to do? push 6\n",
      "What would you like to do? push 7\n",
      "What would you like to do? push 8\n",
      "What would you like to do? pop 9\n",
      "Popped value:  8\n",
      "What would you like to do? Menu\n",
      "What would you like to do? quit\n"
     ]
    }
   ],
   "source": [
    "class Stack:\n",
    "    def __init__(self):\n",
    "        self.queue1 = Queue()\n",
    "        self.queue2 = Queue()\n",
    " \n",
    "    def is_empty(self):\n",
    "        return self.queue2.is_empty()\n",
    " \n",
    "    def push(self, data):\n",
    "        self.queue1.enqueue(data)\n",
    "        while not self.queue2.is_empty():\n",
    "            x = self.queue2.dequeue()\n",
    "            self.queue1.enqueue(x)\n",
    "        self.queue1, self.queue2 = self.queue2, self.queue1\n",
    " \n",
    "    def pop(self):\n",
    "        return self.queue2.dequeue()\n",
    " \n",
    "class Queue:\n",
    "    def __init__(self):\n",
    "        self.items = []\n",
    " \n",
    "    def is_empty(self):\n",
    "        return self.items == []\n",
    " \n",
    "    def enqueue(self, data):\n",
    "        self.items.append(data)\n",
    " \n",
    "    def dequeue(self):\n",
    "        return self.items.pop(0)\n",
    " \n",
    " \n",
    "s = Stack()\n",
    " \n",
    "print('Menu')\n",
    "print('push <value>')\n",
    "print('pop')\n",
    "print('quit')\n",
    " \n",
    "while True:\n",
    "    do = input('What would you like to do? ').split()\n",
    " \n",
    "    operation = do[0].strip().lower()\n",
    "    if operation == 'push':\n",
    "        s.push(int(do[1]))\n",
    "    elif operation == 'pop':\n",
    "        if s.is_empty():\n",
    "            print('Stack is empty.')\n",
    "        else:\n",
    "            print('Popped value: ', s.pop())\n",
    "    elif operation == 'quit':\n",
    "        break"
   ]
  },
  {
   "cell_type": "code",
   "execution_count": null,
   "metadata": {},
   "outputs": [
    {
     "name": "stdout",
     "output_type": "stream",
     "text": [
      "enqueue <value>\n",
      "dequeue\n",
      "quit\n",
      "What would you like to do? enque 7\n",
      "enqueue <value>\n",
      "dequeue\n",
      "quit\n",
      "What would you like to do? dequeue \n",
      "Queue is empty.\n",
      "enqueue <value>\n",
      "dequeue\n",
      "quit\n",
      "What would you like to do? enqueue 7\n",
      "enqueue <value>\n",
      "dequeue\n",
      "quit\n",
      "What would you like to do? enqueue 5\n",
      "enqueue <value>\n",
      "dequeue\n",
      "quit\n",
      "What would you like to do? dequeue\n",
      "Dequeued value:  7\n",
      "enqueue <value>\n",
      "dequeue\n",
      "quit\n"
     ]
    }
   ],
   "source": [
    "class Queue:\n",
    "    def __init__(self):\n",
    "        self.items = []\n",
    " \n",
    "    def is_empty(self):\n",
    "        return self.items == []\n",
    " \n",
    "    def enqueue(self, data):\n",
    "        self.items.append(data)\n",
    " \n",
    "    def dequeue(self):\n",
    "        return self.items.pop(0)\n",
    " \n",
    " \n",
    "q = Queue()\n",
    "while True:\n",
    "    print('enqueue <value>')\n",
    "    print('dequeue')\n",
    "    print('quit')\n",
    "    do = input('What would you like to do? ').split()\n",
    " \n",
    "    operation = do[0].strip().lower()\n",
    "    if operation == 'enqueue':\n",
    "        q.enqueue(int(do[1]))\n",
    "    elif operation == 'dequeue':\n",
    "        if q.is_empty():\n",
    "            print('Queue is empty.')\n",
    "        else:\n",
    "            print('Dequeued value: ', q.dequeue())\n",
    "    elif operation == 'quit':\n",
    "        break"
   ]
  },
  {
   "cell_type": "code",
   "execution_count": 10,
   "metadata": {},
   "outputs": [
    {
     "name": "stdout",
     "output_type": "stream",
     "text": [
      "[40, 50, 60, 70, 80, 90]\n"
     ]
    }
   ],
   "source": [
    "def bubbleSort(list1):\n",
    "    for passnum in range(len(list1)-1,0,-1):\n",
    "        for i in range(passnum):\n",
    "            if list1[i]>list1[i+1]:\n",
    "                temp = list1[i]\n",
    "                list1[i] = list1[i+1]\n",
    "                list1[i+1] = temp\n",
    "\n",
    "list1 = [80,70,90,40,60,50]\n",
    "bubbleSort(list1)\n",
    "print(list1)\n"
   ]
  },
  {
   "cell_type": "code",
   "execution_count": 2,
   "metadata": {},
   "outputs": [
    {
     "name": "stdout",
     "output_type": "stream",
     "text": [
      "[40, 50, 60, 70, 80, 90]\n"
     ]
    }
   ],
   "source": [
    "def selectionSort(list1):\n",
    "   for fillslot in range(len(list1)-1,0,-1):\n",
    "       positionOfMax=0\n",
    "       for location in range(1,fillslot+1):\n",
    "           if list1[location]>list1[positionOfMax]:\n",
    "               positionOfMax = location\n",
    "\n",
    "       temp = list1[fillslot]\n",
    "       list1[fillslot] = list1[positionOfMax]\n",
    "       list1[positionOfMax] = temp\n",
    "\n",
    "list1 = [80,70,90,40,60,50]\n",
    "selectionSort(list1)\n",
    "print(list1)"
   ]
  },
  {
   "cell_type": "code",
   "execution_count": null,
   "metadata": {},
   "outputs": [],
   "source": []
  }
 ],
 "metadata": {
  "kernelspec": {
   "display_name": "Python 3",
   "language": "python",
   "name": "python3"
  },
  "language_info": {
   "codemirror_mode": {
    "name": "ipython",
    "version": 3
   },
   "file_extension": ".py",
   "mimetype": "text/x-python",
   "name": "python",
   "nbconvert_exporter": "python",
   "pygments_lexer": "ipython3",
   "version": "3.6.5"
  }
 },
 "nbformat": 4,
 "nbformat_minor": 2
}
