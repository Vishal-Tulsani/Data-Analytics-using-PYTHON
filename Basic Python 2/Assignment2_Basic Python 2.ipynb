{
 "cells": [
  {
   "cell_type": "code",
   "execution_count": 1,
   "metadata": {},
   "outputs": [],
   "source": [
    "import csv\n",
    "with open('employee_list.csv' ,'a',newline='') as outFile:\n",
    "    fileWriter = csv.writer(outFile)\n",
    "    with open('new_records.csv','r') as inFile:\n",
    "        fileReader = csv.reader(inFile, delimiter=\",\")\n",
    "        with open('contractors_list.csv','w',newline='') as newFile:\n",
    "            fileWriter1 = csv.writer(newFile)\n",
    "        \n",
    "            for row in fileReader:\n",
    "                if((row[0][0:3])==\"emp\"):\n",
    "                    t1=tuple((row[1]).split())\n",
    "                    t2=tuple(row[2:])\n",
    "                    p=row[0][3:],t1[0],t1[1],t2[0],t2[1],t2[2]\n",
    "                    fileWriter.writerow(p)\n",
    "            \n",
    "                else:\n",
    "                    t1=tuple((row[1]).split())\n",
    "                    t2=tuple(row[2:])\n",
    "                    p=row[0][0:],t1[0],t1[1],t2[0],t2[1],t2[2]\n",
    "                    fileWriter1.writerow(p)\n",
    "               \n",
    "\n"
   ]
  },
  {
   "cell_type": "code",
   "execution_count": null,
   "metadata": {},
   "outputs": [],
   "source": []
  }
 ],
 "metadata": {
  "kernelspec": {
   "display_name": "Python 3",
   "language": "python",
   "name": "python3"
  },
  "language_info": {
   "codemirror_mode": {
    "name": "ipython",
    "version": 3
   },
   "file_extension": ".py",
   "mimetype": "text/x-python",
   "name": "python",
   "nbconvert_exporter": "python",
   "pygments_lexer": "ipython3",
   "version": "3.6.5"
  }
 },
 "nbformat": 4,
 "nbformat_minor": 2
}
