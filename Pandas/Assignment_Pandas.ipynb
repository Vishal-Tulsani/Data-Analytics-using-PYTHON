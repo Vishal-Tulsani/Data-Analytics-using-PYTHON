{
 "cells": [
  {
   "cell_type": "code",
   "execution_count": 1,
   "metadata": {},
   "outputs": [
    {
     "name": "stdout",
     "output_type": "stream",
     "text": [
      "\n",
      "Deleted the 'attempts' column from the data frame:\n",
      "           name  score\n",
      "labels                \n",
      "a           Amy   11.5\n",
      "b        Dinesh    7.0\n",
      "c         Kelly   16.5\n",
      "d         Jenny    NaN\n",
      "e         Vinod    8.0\n",
      "f         Kevin   21.0\n",
      "g          Thor   14.5\n",
      "h          Lisa    NaN\n",
      "i          Kate    9.0\n",
      "j       Simpson   18.0\n"
     ]
    }
   ],
   "source": [
    "\"\"\" PART-1 \"\"\"\n",
    "\"\"\" 1 \"\"\"\n",
    "import pandas as pd\n",
    "import numpy as np\n",
    "exam_data = pd.DataFrame( { 'labels': ['a', 'b', 'c', 'd', 'e', 'f', 'g', 'h', 'i', 'j'],\n",
    "\n",
    "'name': ['Amy', 'Dinesh', 'Kelly', 'Jenny', 'Vinod', 'Kevin', 'Thor', 'Lisa', 'Kate','Simpson'],\n",
    "\n",
    "'score': [11.5, 7, 16.5, np.nan, 8, 21, 14.5, np.nan, 9, 18],'attempts': [3, 2, 1, 3, 2, 2, 13, 1, 1, 7] })\n",
    "dp = pd.DataFrame(exam_data)\n",
    "print(\"\\nDeleted the 'attempts' column from the data frame:\")\n",
    "dp.pop('attempts')\n",
    "dp.set_index('labels',inplace=True)\n",
    "print(dp)"
   ]
  },
  {
   "cell_type": "code",
   "execution_count": 2,
   "metadata": {},
   "outputs": [
    {
     "name": "stdout",
     "output_type": "stream",
     "text": [
      "              http_status response_time\n",
      "new_index                              \n",
      "Iceweasel             301          1.00\n",
      "Safari                200          0.02\n",
      "IE 10                 404          0.08\n",
      "Chrome                404          0.07\n",
      "Comodo Dragon         200          0.04\n"
     ]
    }
   ],
   "source": [
    "\"\"\" 2 \"\"\"\n",
    "Browser=pd.DataFrame({'index' : ['Firefox','Chrome','Safari','IE10','Konqueror'],'http_status':['301','200','404','404','200'],\n",
    "                  'response_time':['1.00','0.02','0.08','0.07','0.04'] })\n",
    "new_index =['Iceweasel', 'Safari', 'IE 10', 'Chrome', 'Comodo Dragon']\n",
    "dp = pd.DataFrame(Browser)\n",
    "dp=dp.drop(['index'],axis=1)\n",
    "idx=0\n",
    "dp.insert(loc=idx, column='new_index', value=new_index)\n",
    "dp.set_index('new_index',inplace=True)\n",
    "print(dp)\n"
   ]
  },
  {
   "cell_type": "code",
   "execution_count": 3,
   "metadata": {},
   "outputs": [
    {
     "name": "stdout",
     "output_type": "stream",
     "text": [
      "      Age Year of joining\n",
      "Name                     \n",
      "Lal    76      26-03-1994\n",
      "Abhi   68      18-11-2002\n"
     ]
    }
   ],
   "source": [
    "emp=({'Name':['Dulkar','Lal','Abhi','Judy'],'Age':[34,76,68,25],\n",
    "      'Year of joining':['02-06-2000','26-03-1994','18-11-2002','06-02-2010']})\n",
    "dp=pd.DataFrame(emp)\n",
    "dp.set_index('Name',inplace=True)\n",
    "print(dp[(dp['Age']>=68)])"
   ]
  },
  {
   "cell_type": "code",
   "execution_count": 4,
   "metadata": {},
   "outputs": [
    {
     "name": "stdout",
     "output_type": "stream",
     "text": [
      "        Origin    Regiment Company  Deaths  Battles  Size  Veterans  \\\n",
      "0       Oregon      Scouts     1st      62        4   973        48   \n",
      "1      Wyoming      Scouts     1st      73        7  1005       435   \n",
      "2    Louisiana      Scouts     2nd      37        8  1099        63   \n",
      "3      Georgia      Scouts     2nd      35        9  1523       345   \n",
      "4      Arizona  Nighthawks     1st     523        5  1045         1   \n",
      "5   California  Nighthawks     1st      52       42   957         5   \n",
      "6        Texas  Nighthawks     2nd      25        2  1099        62   \n",
      "7      Florida  Nighthawks     2nd     616        2  1400        26   \n",
      "8        Maine    Dragoons     1st      43        4  1592        73   \n",
      "9         Iowa    Dragoons     1st     234        7  1006        37   \n",
      "10      Alaska    Dragoons     2nd     523        8   987       949   \n",
      "11  Washington    Dragoons     2nd      62        3   849        48   \n",
      "\n",
      "    Readiness  Armored  Deserters  \n",
      "0           2        0          2  \n",
      "1           1        0          3  \n",
      "2           2        1          2  \n",
      "3           3        1          3  \n",
      "4           1        1          4  \n",
      "5           2        0         24  \n",
      "6           3        1         31  \n",
      "7           3        1          2  \n",
      "8           2        0          3  \n",
      "9           1        1          4  \n",
      "10          2        0         24  \n",
      "11          3        1         31  \n"
     ]
    }
   ],
   "source": [
    "\"\"\"  Part-2  \"\"\"\n",
    "\"\"\" 1 \"\"\"\n",
    "sample_data=({'Origin': ['Oregon', 'Wyoming', 'Louisiana', 'Georgia', 'Arizona', 'California', 'Texas', 'Florida','Maine', 'Iowa', 'Alaska', 'Washington'],\n",
    "              'Regiment':['Scouts', 'Scouts', 'Scouts', 'Scouts', 'Nighthawks', 'Nighthawks','Nighthawks','Nighthawks', 'Dragoons', 'Dragoons', 'Dragoons', 'Dragoons'],\n",
    "              'Company':['1st', '1st', '2nd', '2nd', '1st', '1st', '2nd', '2nd', '1st', '1st', '2nd', '2nd'],\n",
    "              'Deaths':[62, 73, 37, 35, 523, 52, 25, 616, 43, 234, 523, 62],\n",
    "              'Battles':[4, 7, 8, 9, 5, 42, 2, 2, 4, 7, 8, 3],\n",
    "              'Size':[973, 1005, 1099, 1523, 1045, 957, 1099, 1400, 1592, 1006, 987, 849],\n",
    "              'Veterans':[48, 435, 63, 345, 1, 5, 62, 26, 73, 37, 949, 48],\n",
    "              'Readiness':[2, 1, 2, 3, 1, 2, 3, 3, 2, 1, 2, 3],\n",
    "              'Armored': [0, 0, 1, 1, 1, 0, 1, 1, 0, 1, 0, 1,],\n",
    "              'Deserters': [2, 3, 2, 3, 4, 24, 31, 2, 3, 4, 24, 31]})\n",
    "Army=pd.DataFrame(sample_data)\n",
    "print(Army)\n"
   ]
  },
  {
   "cell_type": "code",
   "execution_count": 5,
   "metadata": {},
   "outputs": [
    {
     "name": "stdout",
     "output_type": "stream",
     "text": [
      "              Regiment Company  Deaths  Battles  Size  Veterans  Readiness  \\\n",
      "Origin                                                                       \n",
      "Oregon          Scouts     1st      62        4   973        48          2   \n",
      "Wyoming         Scouts     1st      73        7  1005       435          1   \n",
      "Louisiana       Scouts     2nd      37        8  1099        63          2   \n",
      "Georgia         Scouts     2nd      35        9  1523       345          3   \n",
      "Arizona     Nighthawks     1st     523        5  1045         1          1   \n",
      "California  Nighthawks     1st      52       42   957         5          2   \n",
      "Texas       Nighthawks     2nd      25        2  1099        62          3   \n",
      "Florida     Nighthawks     2nd     616        2  1400        26          3   \n",
      "Maine         Dragoons     1st      43        4  1592        73          2   \n",
      "Iowa          Dragoons     1st     234        7  1006        37          1   \n",
      "Alaska        Dragoons     2nd     523        8   987       949          2   \n",
      "Washington    Dragoons     2nd      62        3   849        48          3   \n",
      "\n",
      "            Armored  Deserters  \n",
      "Origin                          \n",
      "Oregon            0          2  \n",
      "Wyoming           0          3  \n",
      "Louisiana         1          2  \n",
      "Georgia           1          3  \n",
      "Arizona           1          4  \n",
      "California        0         24  \n",
      "Texas             1         31  \n",
      "Florida           1          2  \n",
      "Maine             0          3  \n",
      "Iowa              1          4  \n",
      "Alaska            0         24  \n",
      "Washington        1         31  \n"
     ]
    }
   ],
   "source": [
    "\"\"\" 2 \"\"\"\n",
    "\n",
    "Army=pd.DataFrame(sample_data)\n",
    "Army.set_index('Origin',inplace=True)\n",
    "print(Army)"
   ]
  },
  {
   "cell_type": "code",
   "execution_count": 6,
   "metadata": {},
   "outputs": [
    {
     "name": "stdout",
     "output_type": "stream",
     "text": [
      "              Regiment  Deaths  Size\n",
      "Origin                              \n",
      "Georgia         Scouts      35  1523\n",
      "Florida     Nighthawks     616  1400\n",
      "California  Nighthawks      52   957\n"
     ]
    }
   ],
   "source": [
    "\"\"\" 3 \"\"\"\n",
    "\n",
    "Army=pd.DataFrame(sample_data)\n",
    "Army.set_index('Origin',inplace=True)\n",
    "print(Army.loc[['Georgia','Florida','California'],['Regiment','Deaths','Size']])"
   ]
  },
  {
   "cell_type": "code",
   "execution_count": 13,
   "metadata": {},
   "outputs": [
    {
     "name": "stdout",
     "output_type": "stream",
     "text": [
      "            Battles  Size  Veterans  Readiness\n",
      "Origin                                        \n",
      "Louisiana         8  1099        63          2\n",
      "Georgia           9  1523       345          3\n",
      "Arizona           5  1045         1          1\n",
      "California       42   957         5          2\n",
      "Texas             2  1099        62          3\n",
      "Florida           2  1400        26          3\n",
      "Maine             4  1592        73          2\n"
     ]
    }
   ],
   "source": [
    "\"\"\" 4 \"\"\"\n",
    "Army=pd.DataFrame(sample_data)\n",
    "Army.set_index('Origin',inplace=True)\n",
    "print(Army.iloc[2:9,3:7])"
   ]
  },
  {
   "cell_type": "code",
   "execution_count": 16,
   "metadata": {},
   "outputs": [
    {
     "name": "stdout",
     "output_type": "stream",
     "text": [
      "              Regiment Company  Deaths  Battles  Size  Veterans  Readiness  \\\n",
      "Origin                                                                       \n",
      "Georgia         Scouts     2nd      35        9  1523       345          3   \n",
      "Arizona     Nighthawks     1st     523        5  1045         1          1   \n",
      "California  Nighthawks     1st      52       42   957         5          2   \n",
      "Texas       Nighthawks     2nd      25        2  1099        62          3   \n",
      "Florida     Nighthawks     2nd     616        2  1400        26          3   \n",
      "Maine         Dragoons     1st      43        4  1592        73          2   \n",
      "Iowa          Dragoons     1st     234        7  1006        37          1   \n",
      "Alaska        Dragoons     2nd     523        8   987       949          2   \n",
      "Washington    Dragoons     2nd      62        3   849        48          3   \n",
      "\n",
      "            Armored  Deserters  \n",
      "Origin                          \n",
      "Georgia           1          3  \n",
      "Arizona           1          4  \n",
      "California        0         24  \n",
      "Texas             1         31  \n",
      "Florida           1          2  \n",
      "Maine             0          3  \n",
      "Iowa              1          4  \n",
      "Alaska            0         24  \n",
      "Washington        1         31  \n"
     ]
    }
   ],
   "source": [
    "\"\"\" 5 \"\"\"\n",
    "Army=pd.DataFrame(sample_data)\n",
    "Army.set_index('Origin',inplace=True)\n",
    "df=Army.loc['Georgia':]\n",
    "print(df)"
   ]
  },
  {
   "cell_type": "code",
   "execution_count": 17,
   "metadata": {},
   "outputs": [
    {
     "name": "stdout",
     "output_type": "stream",
     "text": [
      "              Regiment Company  Deaths  Battles  Size  Veterans  Readiness  \\\n",
      "Origin                                                                       \n",
      "Georgia         Scouts     2nd      35        9  1523       345          3   \n",
      "Arizona     Nighthawks     1st     523        5  1045         1          1   \n",
      "California  Nighthawks     1st      52       42   957         5          2   \n",
      "Texas       Nighthawks     2nd      25        2  1099        62          3   \n",
      "Florida     Nighthawks     2nd     616        2  1400        26          3   \n",
      "\n",
      "            Armored  Deserters  \n",
      "Origin                          \n",
      "Georgia           1          3  \n",
      "Arizona           1          4  \n",
      "California        0         24  \n",
      "Texas             1         31  \n",
      "Florida           1          2  \n"
     ]
    }
   ],
   "source": [
    "\"\"\" 6 \"\"\"\n",
    "\n",
    "Army=pd.DataFrame(sample_data)\n",
    "Army.set_index('Origin',inplace=True)\n",
    "print(Army.iloc[3:8])"
   ]
  },
  {
   "cell_type": "code",
   "execution_count": 65,
   "metadata": {},
   "outputs": [
    {
     "name": "stdout",
     "output_type": "stream",
     "text": [
      "              Regiment Company  Deaths  Battles  Size  Veterans  Readiness  \\\n",
      "Origin                                                                       \n",
      "Wyoming         Scouts     1st      73        7  1005       435          1   \n",
      "Louisiana       Scouts     2nd      37        8  1099        63          2   \n",
      "Georgia         Scouts     2nd      35        9  1523       345          3   \n",
      "California  Nighthawks     1st      52       42   957         5          2   \n",
      "Iowa          Dragoons     1st     234        7  1006        37          1   \n",
      "Alaska        Dragoons     2nd     523        8   987       949          2   \n",
      "\n",
      "            Armored  Deserters  \n",
      "Origin                          \n",
      "Wyoming           0          3  \n",
      "Louisiana         1          2  \n",
      "Georgia           1          3  \n",
      "California        0         24  \n",
      "Iowa              1          4  \n",
      "Alaska            0         24  \n"
     ]
    }
   ],
   "source": [
    "\"\"\" 7 \"\"\"\n",
    "Army=pd.DataFrame(sample_data)\n",
    "Army.set_index('Origin',inplace=True)\n",
    "print(Army[(Army['Battles']>5)])"
   ]
  },
  {
   "cell_type": "code",
   "execution_count": 66,
   "metadata": {},
   "outputs": [
    {
     "name": "stdout",
     "output_type": "stream",
     "text": [
      "             Regiment Company  Deaths  Battles  Size  Veterans  Readiness  \\\n",
      "Origin                                                                      \n",
      "Louisiana      Scouts     2nd      37        8  1099        63          2   \n",
      "Georgia        Scouts     2nd      35        9  1523       345          3   \n",
      "Arizona    Nighthawks     1st     523        5  1045         1          1   \n",
      "Texas      Nighthawks     2nd      25        2  1099        62          3   \n",
      "Florida    Nighthawks     2nd     616        2  1400        26          3   \n",
      "Maine        Dragoons     1st      43        4  1592        73          2   \n",
      "Alaska       Dragoons     2nd     523        8   987       949          2   \n",
      "\n",
      "           Armored  Deserters  \n",
      "Origin                         \n",
      "Louisiana        1          2  \n",
      "Georgia          1          3  \n",
      "Arizona          1          4  \n",
      "Texas            1         31  \n",
      "Florida          1          2  \n",
      "Maine            0          3  \n",
      "Alaska           0         24  \n"
     ]
    }
   ],
   "source": [
    "\"\"\" 8 \"\"\"\n",
    "Army=pd.DataFrame(sample_data)\n",
    "Army.set_index('Origin',inplace=True)\n",
    "print(Army[(Army['Deaths'] < 50) | (Army['Deaths'] > 500)])"
   ]
  },
  {
   "cell_type": "code",
   "execution_count": 18,
   "metadata": {},
   "outputs": [
    {
     "name": "stdout",
     "output_type": "stream",
     "text": [
      "              Regiment Company  Deaths  Battles  Size  Veterans  Readiness  \\\n",
      "Origin                                                                       \n",
      "Arizona     Nighthawks     1st     523        5  1045         1          1   \n",
      "California  Nighthawks     1st      52       42   957         5          2   \n",
      "Texas       Nighthawks     2nd      25        2  1099        62          3   \n",
      "Florida     Nighthawks     2nd     616        2  1400        26          3   \n",
      "Maine         Dragoons     1st      43        4  1592        73          2   \n",
      "Iowa          Dragoons     1st     234        7  1006        37          1   \n",
      "Alaska        Dragoons     2nd     523        8   987       949          2   \n",
      "Washington    Dragoons     2nd      62        3   849        48          3   \n",
      "\n",
      "            Armored  Deserters  \n",
      "Origin                          \n",
      "Arizona           1          4  \n",
      "California        0         24  \n",
      "Texas             1         31  \n",
      "Florida           1          2  \n",
      "Maine             0          3  \n",
      "Iowa              1          4  \n",
      "Alaska            0         24  \n",
      "Washington        1         31  \n"
     ]
    }
   ],
   "source": [
    "\"\"\" 9 \"\"\"\n",
    "\n",
    "Army=pd.DataFrame(sample_data)\n",
    "Army.set_index('Origin',inplace=True)\n",
    "print(Army[Army['Regiment'] != 'Scouts'])"
   ]
  },
  {
   "cell_type": "code",
   "execution_count": 19,
   "metadata": {},
   "outputs": [
    {
     "name": "stdout",
     "output_type": "stream",
     "text": [
      "2nd\n"
     ]
    }
   ],
   "source": [
    "\"\"\" 10 \"\"\"\n",
    "Army=pd.DataFrame(sample_data)\n",
    "Army.set_index('Origin',inplace=True)\n",
    "print(Army.loc['Alaska','Company'])"
   ]
  },
  {
   "cell_type": "code",
   "execution_count": null,
   "metadata": {},
   "outputs": [],
   "source": []
  }
 ],
 "metadata": {
  "kernelspec": {
   "display_name": "Python 3",
   "language": "python",
   "name": "python3"
  },
  "language_info": {
   "codemirror_mode": {
    "name": "ipython",
    "version": 3
   },
   "file_extension": ".py",
   "mimetype": "text/x-python",
   "name": "python",
   "nbconvert_exporter": "python",
   "pygments_lexer": "ipython3",
   "version": "3.6.5"
  }
 },
 "nbformat": 4,
 "nbformat_minor": 2
}
